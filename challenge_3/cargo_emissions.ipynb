{
 "cells": [
  {
   "attachments": {},
   "cell_type": "markdown",
   "metadata": {},
   "source": [
    "# How much cargo can this vessel carry?\n",
    "- [ ] Given IMO, retrieve vessel type information from API -> `cbm` field\n",
    "\n",
    "# Predict how much cargo is on board at the time of observation\n",
    "- Capacity -> step one (cbm)\n",
    "- \n",
    "\n",
    "To accurately predict the amount of cargo that a vessel is carrying, it would be necessary to have additional information about the vessel, such as its size, capacity, and loading plan. Even with this additional information, it would still be challenging to accurately predict the exact amount of cargo on a vessel, as the vessel's cargo can change over time due to unloading, reloading, or other factors.\n",
    "\n",
    "However, it may be possible to estimate the amount of cargo on a vessel based on the vessel's size and capacity, as well as other factors such as the vessel's itinerary, port of origin, and destination. This can be done by analyzing multiple sources of data and using predictive modeling techniques, but it is likely to be an imprecise process."
   ]
  }
 ],
 "metadata": {
  "kernelspec": {
   "display_name": "Python 3",
   "language": "python",
   "name": "python3"
  },
  "language_info": {
   "name": "python",
   "version": "3.10.7 (main, Sep 14 2022, 22:38:23) [Clang 14.0.0 (clang-1400.0.29.102)]"
  },
  "orig_nbformat": 4,
  "vscode": {
   "interpreter": {
    "hash": "b0fa6594d8f4cbf19f97940f81e996739fb7646882a419484c72d19e05852a7e"
   }
  }
 },
 "nbformat": 4,
 "nbformat_minor": 2
}
